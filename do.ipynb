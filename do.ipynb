{
 "metadata": {
  "language_info": {
   "codemirror_mode": {
    "name": "ipython",
    "version": 3
   },
   "file_extension": ".py",
   "mimetype": "text/x-python",
   "name": "python",
   "nbconvert_exporter": "python",
   "pygments_lexer": "ipython3",
   "version": "3.7.4-final"
  },
  "orig_nbformat": 2,
  "kernelspec": {
   "name": "python3",
   "display_name": "Python 3",
   "language": "python"
  }
 },
 "nbformat": 4,
 "nbformat_minor": 2,
 "cells": [
  {
   "source": [
    "# Python Assignment\n",
    "\n",
    "The data are defined at the following cell:"
   ],
   "cell_type": "markdown",
   "metadata": {}
  },
  {
   "cell_type": "code",
   "execution_count": 1,
   "metadata": {},
   "outputs": [],
   "source": [
    "import numpy as np\n",
    "\n",
    "A = np.array([[0, 3, -1, 8],\n",
    "     [-1, 11, -1, 3],\n",
    "     [2, -1, 10, -1],\n",
    "     [10, -1, 2, 0]], dtype=np.float64)\n",
    "b = np.array([[15], [25], [-1], [6]], dtype=np.float64)"
   ]
  },
  {
   "source": [
    "## Q1  \n",
    "Write a program to test if the matrix A is strictly diagonally dominant."
   ],
   "cell_type": "markdown",
   "metadata": {}
  },
  {
   "cell_type": "code",
   "execution_count": 2,
   "metadata": {},
   "outputs": [
    {
     "output_type": "stream",
     "name": "stdout",
     "text": [
      "A is not strictly diagonally dominant\n"
     ]
    },
    {
     "output_type": "execute_result",
     "data": {
      "text/plain": [
       "False"
      ]
     },
     "metadata": {},
     "execution_count": 2
    }
   ],
   "source": [
    "## Q1\n",
    "\n",
    "def is_strictly_diagonally_dominant(A):\n",
    "    diag = np.diag(A)\n",
    "    other = np.sum(A, 1) - diag\n",
    "    \n",
    "    if all([a > 0  for a in (np.abs(diag) - np.abs(other))]):\n",
    "        print(\"A is strictly diagonally dominant\")\n",
    "        return True\n",
    "    else:\n",
    "        print(\"A is not strictly diagonally dominant\")\n",
    "        return False\n",
    "        \n",
    "is_strictly_diagonally_dominant(A)        "
   ]
  },
  {
   "source": [
    "The result shows that A is not strictly diagonally dominant.\n",
    "LU decomposition and Gauss-Seidel method require the input Matrix to be diagonally dominant.\n",
    "We can swap the first row and the last row of A to achieve it.\n"
   ],
   "cell_type": "markdown",
   "metadata": {}
  },
  {
   "cell_type": "code",
   "execution_count": 3,
   "metadata": {},
   "outputs": [
    {
     "output_type": "stream",
     "name": "stdout",
     "text": [
      "A is strictly diagonally dominant\n"
     ]
    },
    {
     "output_type": "execute_result",
     "data": {
      "text/plain": [
       "True"
      ]
     },
     "metadata": {},
     "execution_count": 3
    }
   ],
   "source": [
    "ANew = A.copy()\n",
    "ANew[0, :], ANew[3, :]= A[3, :], A[0, :]\n",
    "bNew = np.array([b[3], b[1], b[2], b[0]])\n",
    "is_strictly_diagonally_dominant(ANew)    \n"
   ]
  },
  {
   "source": [
    "## Q2 LU decomposition\n",
    "In the following cell, we define \n",
    "\n",
    "LU_decomposition_Doolittle(A) \n",
    "\n",
    "LU_decomposition_Crout(A)\n",
    "\n",
    "to perform LU decomposition using Doolittle and Crout method respectively.\n",
    "\n",
    "Then solve_LUD(L, U, b) will first solve\n",
    "Lz=b, \n",
    "then, solve\n",
    "Ux = z\n",
    "\n"
   ],
   "cell_type": "markdown",
   "metadata": {}
  },
  {
   "cell_type": "code",
   "execution_count": 4,
   "metadata": {},
   "outputs": [],
   "source": [
    "# Q2 \n",
    "\n",
    "# Doolittle\n",
    "def LU_decomposition_Doolittle(A):\n",
    "    n=len(A[0])\n",
    "    L = np.eye(n)\n",
    "    U = np.zeros([n, n])\n",
    "    U[0, :] = A[0, :]    \n",
    "    L[:, 0] = A[:, 0]/A[0, 0]   \n",
    "    \n",
    "    for i in range(1, n):       \n",
    "        for j in range(i, n):#U\n",
    "            temp = np.dot(L[i, :i], U[:i, j])            \n",
    "            U[i][j]=A[i][j] - temp\n",
    "        for j in range(i+1, n):#L\n",
    "            temp = np.dot(L[j, :i], U[:i, i])\n",
    "            L[j][i] = (A[j][i] - temp)/U[i][i]           \n",
    "            \n",
    "    return L,U\n",
    "\n",
    "\n"
   ]
  },
  {
   "cell_type": "code",
   "execution_count": 5,
   "metadata": {},
   "outputs": [],
   "source": [
    "# Doolittle\n",
    "def LU_decomposition_Crout(A):\n",
    "    n=len(A[0])\n",
    "    L = np.zeros([n, n])\n",
    "    U = np.eye(n)\n",
    "    U[0, :] = A[0, :] / A[0, 0]\n",
    "    L[:, 0] = A[:, 0]\n",
    "    for i in range(1, n):   \n",
    "        for j in range(i, n):#L\n",
    "            temp = np.dot(L[j, :i], U[:i, i])\n",
    "            L[j][i] = (A[j][i] - temp)  \n",
    "        for j in range(i + 1, n):#U\n",
    "            temp = np.dot(L[i, :i], U[:i, j])            \n",
    "            U[i][j]=(A[i][j] - temp)/L[i, i]\n",
    "        \n",
    "    return L,U\n",
    "\n"
   ]
  },
  {
   "cell_type": "code",
   "execution_count": 6,
   "metadata": {},
   "outputs": [],
   "source": [
    "def solve_LUD(L, U, b):\n",
    "    n = b.shape[0]\n",
    "    #z = np.dot(np.linalg.inv(L), b) # solve Lz = b\n",
    "    z = np.zeros((n, 1))\n",
    "    z[0, 0] = b[0, 0] / L[0, 0]\n",
    "    for i in range(1, n):\n",
    "        z[i, 0] = (b[i, 0] - np.dot(L[i, :i], z[:i,0])) / L[i, i]\n",
    "    #print(z1, z)\n",
    "    #x = np.dot(np.linalg.inv(U), z) # solve ux = z\n",
    "    x = np.zeros((n, 1))\n",
    "    x[n-1, 0] = z[n-1, 0]/U[n-1, n-1]\n",
    "    for i in range(n-2, -1, -1):\n",
    "        x[i, 0] = (z[i, 0] - np.dot(U[(i+1):, i], x[(i+1):,0])) / U[i, i]\n",
    "\n",
    "    return x"
   ]
  },
  {
   "source": [
    "We first perform LUD using Doolittle method:"
   ],
   "cell_type": "markdown",
   "metadata": {}
  },
  {
   "cell_type": "code",
   "execution_count": 8,
   "metadata": {},
   "outputs": [
    {
     "output_type": "execute_result",
     "data": {
      "text/plain": [
       "(array([[ 1.        ,  0.        ,  0.        ,  0.        ],\n",
       "        [-0.1       ,  1.        ,  0.        ,  0.        ],\n",
       "        [ 0.2       , -0.0733945 ,  1.        ,  0.        ],\n",
       "        [ 0.        ,  0.27522936, -0.08173077,  1.        ]]),\n",
       " array([[10.        , -1.        ,  2.        ,  0.        ],\n",
       "        [ 0.        , 10.9       , -0.8       ,  3.        ],\n",
       "        [ 0.        ,  0.        ,  9.5412844 , -0.77981651],\n",
       "        [ 0.        ,  0.        ,  0.        ,  7.11057692]]),\n",
       " array([[ 0.6       ],\n",
       "        [ 2.34862385],\n",
       "        [-0.03365385],\n",
       "        [ 1.11494253]]))"
      ]
     },
     "metadata": {},
     "execution_count": 8
    }
   ],
   "source": [
    "L, U = LU_decomposition_Doolittle(ANew)\n",
    "x1 = solve_LUD(L, U, bNew)\n",
    "L, U, x1"
   ]
  },
  {
   "source": [
    "The diagonal of L is all 1 for Doolittle method.\n",
    "\n",
    "Then we can perform Crout method:"
   ],
   "cell_type": "markdown",
   "metadata": {}
  },
  {
   "cell_type": "code",
   "execution_count": 11,
   "metadata": {},
   "outputs": [
    {
     "output_type": "stream",
     "name": "stdout",
     "text": [
      "Difference of two method |x1-x2|\n [[0.00000000e+00]\n [0.00000000e+00]\n [2.77555756e-17]\n [0.00000000e+00]]\n"
     ]
    },
    {
     "output_type": "execute_result",
     "data": {
      "text/plain": [
       "(array([[10.        ,  0.        ,  0.        ,  0.        ],\n",
       "        [-1.        , 10.9       ,  0.        ,  0.        ],\n",
       "        [ 2.        , -0.8       ,  9.5412844 ,  0.        ],\n",
       "        [ 0.        ,  3.        , -0.77981651,  7.11057692]]),\n",
       " array([[ 1.        , -0.1       ,  0.2       ,  0.        ],\n",
       "        [ 0.        ,  1.        , -0.0733945 ,  0.27522936],\n",
       "        [ 0.        ,  0.        ,  1.        , -0.08173077],\n",
       "        [ 0.        ,  0.        ,  0.        ,  1.        ]]),\n",
       " array([[ 0.6       ],\n",
       "        [ 2.34862385],\n",
       "        [-0.03365385],\n",
       "        [ 1.11494253]]))"
      ]
     },
     "metadata": {},
     "execution_count": 11
    }
   ],
   "source": [
    "L, U = LU_decomposition_Crout(ANew)\n",
    "x2 = solve_LUD(L, U, bNew)\n",
    "print(\"Difference of two method |x1-x2|:\\n\", np.abs(x1-x2))\n",
    "L, U, x2"
   ]
  },
  {
   "source": [
    "For Crout method, the diagonal of U is all one. The solution for the two methods are exactly the same.\n",
    "\n",
    "The error of the method is mainly introduced by the calculation of division, especially when the denominator is near zero.\n",
    "The time complexity of LU Decomposition is O(N^3). Solving a eqaution system with triangle matrix takes O(n^2)."
   ],
   "cell_type": "markdown",
   "metadata": {}
  },
  {
   "source": [
    "## Q3 Gauss-Seidel Method\n",
    "\n"
   ],
   "cell_type": "markdown",
   "metadata": {}
  },
  {
   "cell_type": "code",
   "execution_count": 15,
   "metadata": {},
   "outputs": [],
   "source": [
    "## Q3 Gauss-Seidel Method\n",
    "\n",
    "def GSIterate(A, b, x, omega = 1.0):\n",
    "    n = A.shape[0]\n",
    "    x1 = np.zeros((n,1))\n",
    "    \n",
    "    for i in range(n):\n",
    "        item1 = np.dot(A[i, :i], x1[:i, 0]) \n",
    "        item2 = np.dot(A[i, (i+1):], x[(i+1):, 0])\n",
    "        x1[i] = (b[i] - item1 - item2)/A[i, i]\n",
    "    return (1-omega) *x + omega*x1\n",
    "\n",
    "def GaussSeidelMethod(A, b, x0, tol = 1.0e-4):\n",
    "    x1 = GSIterate(A, b, x0)\n",
    "    i = 1\n",
    "    print(i, x1.T)\n",
    "    while np.linalg.norm(x1 - x0, ord=np.inf) >tol:\n",
    "        x0 = x1\n",
    "        x1 = GSIterate(A, b, x0)\n",
    "        i += 1\n",
    "        print(i, x1.T)\n",
    "    \n",
    "    return x1\n"
   ]
  },
  {
   "source": [
    "Using \\[0, 0, 0, 0\\] as the initial guess, the results are"
   ],
   "cell_type": "markdown",
   "metadata": {}
  },
  {
   "cell_type": "code",
   "execution_count": 16,
   "metadata": {},
   "outputs": [
    {
     "output_type": "stream",
     "name": "stdout",
     "text": [
      "1 [[0.6        2.32727273 0.01272727 1.00386364]]\n2 [[0.83018182 2.07557438 0.04190744 1.10189804]]\n3 [[0.79917595 2.04867175 0.05522179 1.11365082]]\n4 [[0.79382282 2.0461902  0.05721954 1.11483112]]\n5 [[0.79317511 2.04599103 0.05744719 1.11493426]]\n6 [[0.79310966 2.04597764 0.05746926 1.11494204]]\n"
     ]
    },
    {
     "output_type": "execute_result",
     "data": {
      "text/plain": [
       "array([[0.79310966],\n",
       "       [2.04597764],\n",
       "       [0.05746926],\n",
       "       [1.11494204]])"
      ]
     },
     "metadata": {},
     "execution_count": 16
    }
   ],
   "source": [
    "x0 = np.array([[0], [0], [0], [0]])\n",
    "GaussSeidelMethod(ANew, bNew, x0)"
   ]
  },
  {
   "source": [
    "Using \\[1, 1, 1, 1\\] as the initial guess, the results are"
   ],
   "cell_type": "markdown",
   "metadata": {}
  },
  {
   "cell_type": "code",
   "execution_count": 17,
   "metadata": {},
   "outputs": [
    {
     "output_type": "stream",
     "name": "stdout",
     "text": [
      "1 [[0.5        2.13636364 0.11363636 1.08806818]]\n2 [[0.79090909 2.05821281 0.05644628 1.11022598]]\n3 [[0.79453202 2.04730003 0.0568462  1.11436826]]\n4 [[0.79336076 2.0461002  0.05737469 1.11488426]]\n5 [[0.79313508 2.045987   0.05746011 1.11493739]]\n6 [[0.79310668 2.04597769 0.05747017 1.11494214]]\n"
     ]
    },
    {
     "output_type": "execute_result",
     "data": {
      "text/plain": [
       "array([[0.79310668],\n",
       "       [2.04597769],\n",
       "       [0.05747017],\n",
       "       [1.11494214]])"
      ]
     },
     "metadata": {},
     "execution_count": 17
    }
   ],
   "source": [
    "x0 = np.array([[1], [1], [1], [1]])\n",
    "GaussSeidelMethod(ANew, bNew, x0)"
   ]
  },
  {
   "source": [
    "Each iteration of the Guass Seidel Method takes O(N^2). When N is large enough  and GS method can converge quickly, the GS method can be more efficient than LUD. The coverge speed depends on the accuracy. GS method can be more flexiable. "
   ],
   "cell_type": "markdown",
   "metadata": {}
  },
  {
   "source": [
    "## Q4 SOR"
   ],
   "cell_type": "markdown",
   "metadata": {}
  },
  {
   "cell_type": "code",
   "execution_count": 19,
   "metadata": {},
   "outputs": [
    {
     "output_type": "stream",
     "name": "stdout",
     "text": [
      "1 [[0.66    2.56    0.014   1.10425]]\n2 [[0.87252    1.999445   0.047908   1.11244662]]\n3 [[0.78214719 2.0501486  0.0587078  1.11540775]]\n4 [[0.79438591 2.04556093 0.05736152 1.11489734]]\n5 [[0.79295358 2.04601924 0.05748165 1.11494674]]\n6 [[0.79312079 2.04597278 0.05747022 1.11494211]]\n7 [[0.79310148 2.04597743 0.05747137 1.11494257]]\n"
     ]
    },
    {
     "output_type": "execute_result",
     "data": {
      "text/plain": [
       "array([[0.79310148],\n",
       "       [2.04597743],\n",
       "       [0.05747137],\n",
       "       [1.11494257]])"
      ]
     },
     "metadata": {},
     "execution_count": 19
    }
   ],
   "source": [
    "## Q4\n",
    "\n",
    "def GaussSeidelMethod_SOR(A, b, x0, omega, tol = 1.0e-4):\n",
    "    x1 = GSIterate(A, b, x0, omega)\n",
    "    i = 1\n",
    "    print(i, x1.T)\n",
    "    while np.linalg.norm(x1 - x0, ord=np.inf) >tol:\n",
    "        x0 = x1\n",
    "        x1 = GSIterate(A, b, x0, omega)\n",
    "        i += 1\n",
    "        print(i, x1.T)\n",
    "    \n",
    "    return x1\n",
    "\n",
    "x0 = np.array([[0], [0], [0], [0]])\n",
    "GaussSeidelMethod_SOR(ANew, bNew, x0, 1.1)"
   ]
  },
  {
   "cell_type": "code",
   "execution_count": 20,
   "metadata": {},
   "outputs": [
    {
     "output_type": "stream",
     "name": "stdout",
     "text": [
      "1 [[0.45     2.25     0.025    1.096875]]\n2 [[0.857      2.0304375  0.0533     1.11399844]]\n3 [[0.78592213 2.04732509 0.05792229 1.11511838]]\n4 [[0.79387064 2.04583901 0.05743537 1.11492729]]\n5 [[0.79301944 2.04599113 0.05747467 1.11494391]]\n6 [[0.79311265 2.0459756  0.05747091 1.11494239]]\n"
     ]
    },
    {
     "output_type": "execute_result",
     "data": {
      "text/plain": [
       "array([[0.79311265],\n",
       "       [2.0459756 ],\n",
       "       [0.05747091],\n",
       "       [1.11494239]])"
      ]
     },
     "metadata": {},
     "execution_count": 20
    }
   ],
   "source": [
    "x0 = np.array([[1], [1], [1], [1]])\n",
    "GaussSeidelMethod_SOR(ANew, bNew, x0, 1.1)"
   ]
  },
  {
   "source": [
    "The acceleration factor does not accelerate the convergence speed."
   ],
   "cell_type": "markdown",
   "metadata": {}
  }
 ]
}